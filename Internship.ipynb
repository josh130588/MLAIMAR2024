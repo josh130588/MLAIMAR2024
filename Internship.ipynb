{
  "nbformat": 4,
  "nbformat_minor": 0,
  "metadata": {
    "colab": {
      "provenance": [],
      "authorship_tag": "ABX9TyOGN5cvVeyj+m4m3Pxdv6H0",
      "include_colab_link": true
    },
    "kernelspec": {
      "name": "python3",
      "display_name": "Python 3"
    },
    "language_info": {
      "name": "python"
    }
  },
  "cells": [
    {
      "cell_type": "markdown",
      "metadata": {
        "id": "view-in-github",
        "colab_type": "text"
      },
      "source": [
        "<a href=\"https://colab.research.google.com/github/josh130588/MLAIMAR2024/blob/main/Internship.ipynb\" target=\"_parent\"><img src=\"https://colab.research.google.com/assets/colab-badge.svg\" alt=\"Open In Colab\"/></a>"
      ]
    },
    {
      "cell_type": "code",
      "execution_count": 1,
      "metadata": {
        "colab": {
          "base_uri": "https://localhost:8080/"
        },
        "id": "5EJPi0SewS8Y",
        "outputId": "a5cdf5df-8fe2-49f7-ed02-575a9bbd9127"
      },
      "outputs": [
        {
          "output_type": "stream",
          "name": "stdout",
          "text": [
            "Collecting face_recognition\n",
            "  Downloading face_recognition-1.3.0-py2.py3-none-any.whl.metadata (21 kB)\n",
            "Collecting face-recognition-models>=0.3.0 (from face_recognition)\n",
            "  Downloading face_recognition_models-0.3.0.tar.gz (100.1 MB)\n",
            "\u001b[2K     \u001b[90m━━━━━━━━━━━━━━━━━━━━━━━━━━━━━━━━━━━━━━━━\u001b[0m \u001b[32m100.1/100.1 MB\u001b[0m \u001b[31m6.2 MB/s\u001b[0m eta \u001b[36m0:00:00\u001b[0m\n",
            "\u001b[?25h  Preparing metadata (setup.py) ... \u001b[?25l\u001b[?25hdone\n",
            "Requirement already satisfied: Click>=6.0 in /usr/local/lib/python3.10/dist-packages (from face_recognition) (8.1.7)\n",
            "Requirement already satisfied: dlib>=19.7 in /usr/local/lib/python3.10/dist-packages (from face_recognition) (19.24.2)\n",
            "Requirement already satisfied: numpy in /usr/local/lib/python3.10/dist-packages (from face_recognition) (1.26.4)\n",
            "Requirement already satisfied: Pillow in /usr/local/lib/python3.10/dist-packages (from face_recognition) (10.4.0)\n",
            "Downloading face_recognition-1.3.0-py2.py3-none-any.whl (15 kB)\n",
            "Building wheels for collected packages: face-recognition-models\n",
            "  Building wheel for face-recognition-models (setup.py) ... \u001b[?25l\u001b[?25hdone\n",
            "  Created wheel for face-recognition-models: filename=face_recognition_models-0.3.0-py2.py3-none-any.whl size=100566164 sha256=779fe257985cf2609c0e46eff30239eef6e0dc364379c2ee8226507146b20975\n",
            "  Stored in directory: /root/.cache/pip/wheels/7a/eb/cf/e9eced74122b679557f597bb7c8e4c739cfcac526db1fd523d\n",
            "Successfully built face-recognition-models\n",
            "Installing collected packages: face-recognition-models, face_recognition\n",
            "Successfully installed face-recognition-models-0.3.0 face_recognition-1.3.0\n"
          ]
        }
      ],
      "source": [
        "!pip install face_recognition\n"
      ]
    },
    {
      "cell_type": "code",
      "source": [
        "!pip install dlib\n"
      ],
      "metadata": {
        "colab": {
          "base_uri": "https://localhost:8080/"
        },
        "id": "q_iighhv3lXm",
        "outputId": "513c1d27-1588-4ed8-ac9a-68ab93738020"
      },
      "execution_count": 2,
      "outputs": [
        {
          "output_type": "stream",
          "name": "stdout",
          "text": [
            "Requirement already satisfied: dlib in /usr/local/lib/python3.10/dist-packages (19.24.2)\n"
          ]
        }
      ]
    },
    {
      "cell_type": "code",
      "source": [
        "import os\n",
        "import face_recognition\n",
        "\n",
        "# Function to load images and extract encodings and names from the filenames\n",
        "def load_images_from_folder(folder):\n",
        "    face_encodings = []\n",
        "    face_names = []\n",
        "\n",
        "    # Loop through all image files in the folder\n",
        "    for image_name in os.listdir(folder):\n",
        "        # Full path to the image\n",
        "        image_path = os.path.join(folder, image_name)\n",
        "\n",
        "        # Extract the name from the image filename (assuming it's before the first dot)\n",
        "        name = image_name.split('.')[0]\n",
        "\n",
        "        # Load the image and get face encodings\n",
        "        image = face_recognition.load_image_file(image_path)\n",
        "        face_encoding = face_recognition.face_encodings(image)\n",
        "\n",
        "        if face_encoding:\n",
        "            face_encodings.append(face_encoding[0])\n",
        "            face_names.append(name)\n",
        "\n",
        "    return face_encodings, face_names\n",
        "\n",
        "# Load training images\n",
        "train_folder = '/sample_data/train'  # Update this path\n",
        "train_encodings, train_names = load_images_from_folder(train_folder)\n",
        "\n",
        "# Load test images if needed\n",
        "test_folder = '/sample_data/test'  # Update this path\n",
        "test_encodings, test_names = load_images_from_folder(test_folder)\n"
      ],
      "metadata": {
        "colab": {
          "base_uri": "https://localhost:8080/",
          "height": 425
        },
        "id": "pH3kbk1t3rq2",
        "outputId": "118a2ebf-9222-447b-c42f-6e22e5cdf85d"
      },
      "execution_count": 3,
      "outputs": [
        {
          "output_type": "error",
          "ename": "RuntimeError",
          "evalue": "Error while calling cudaGetDevice(&the_device_id) in file /tmp/pip-install-h1e2w6yq/dlib_ee67d488f535462ca081ce38055682c3/dlib/cuda/gpu_data.cpp:204. code: 35, reason: CUDA driver version is insufficient for CUDA runtime version",
          "traceback": [
            "\u001b[0;31m---------------------------------------------------------------------------\u001b[0m",
            "\u001b[0;31mRuntimeError\u001b[0m                              Traceback (most recent call last)",
            "\u001b[0;32m<ipython-input-3-20d75ae29de9>\u001b[0m in \u001b[0;36m<cell line: 2>\u001b[0;34m()\u001b[0m\n\u001b[1;32m      1\u001b[0m \u001b[0;32mimport\u001b[0m \u001b[0mos\u001b[0m\u001b[0;34m\u001b[0m\u001b[0;34m\u001b[0m\u001b[0m\n\u001b[0;32m----> 2\u001b[0;31m \u001b[0;32mimport\u001b[0m \u001b[0mface_recognition\u001b[0m\u001b[0;34m\u001b[0m\u001b[0;34m\u001b[0m\u001b[0m\n\u001b[0m\u001b[1;32m      3\u001b[0m \u001b[0;34m\u001b[0m\u001b[0m\n\u001b[1;32m      4\u001b[0m \u001b[0;31m# Function to load images and extract encodings and names from the filenames\u001b[0m\u001b[0;34m\u001b[0m\u001b[0;34m\u001b[0m\u001b[0m\n\u001b[1;32m      5\u001b[0m \u001b[0;32mdef\u001b[0m \u001b[0mload_images_from_folder\u001b[0m\u001b[0;34m(\u001b[0m\u001b[0mfolder\u001b[0m\u001b[0;34m)\u001b[0m\u001b[0;34m:\u001b[0m\u001b[0;34m\u001b[0m\u001b[0;34m\u001b[0m\u001b[0m\n",
            "\u001b[0;32m/usr/local/lib/python3.10/dist-packages/face_recognition/__init__.py\u001b[0m in \u001b[0;36m<module>\u001b[0;34m\u001b[0m\n\u001b[1;32m      5\u001b[0m \u001b[0m__version__\u001b[0m \u001b[0;34m=\u001b[0m \u001b[0;34m'1.2.3'\u001b[0m\u001b[0;34m\u001b[0m\u001b[0;34m\u001b[0m\u001b[0m\n\u001b[1;32m      6\u001b[0m \u001b[0;34m\u001b[0m\u001b[0m\n\u001b[0;32m----> 7\u001b[0;31m \u001b[0;32mfrom\u001b[0m \u001b[0;34m.\u001b[0m\u001b[0mapi\u001b[0m \u001b[0;32mimport\u001b[0m \u001b[0mload_image_file\u001b[0m\u001b[0;34m,\u001b[0m \u001b[0mface_locations\u001b[0m\u001b[0;34m,\u001b[0m \u001b[0mbatch_face_locations\u001b[0m\u001b[0;34m,\u001b[0m \u001b[0mface_landmarks\u001b[0m\u001b[0;34m,\u001b[0m \u001b[0mface_encodings\u001b[0m\u001b[0;34m,\u001b[0m \u001b[0mcompare_faces\u001b[0m\u001b[0;34m,\u001b[0m \u001b[0mface_distance\u001b[0m\u001b[0;34m\u001b[0m\u001b[0;34m\u001b[0m\u001b[0m\n\u001b[0m",
            "\u001b[0;32m/usr/local/lib/python3.10/dist-packages/face_recognition/api.py\u001b[0m in \u001b[0;36m<module>\u001b[0;34m\u001b[0m\n\u001b[1;32m     24\u001b[0m \u001b[0;34m\u001b[0m\u001b[0m\n\u001b[1;32m     25\u001b[0m \u001b[0mcnn_face_detection_model\u001b[0m \u001b[0;34m=\u001b[0m \u001b[0mface_recognition_models\u001b[0m\u001b[0;34m.\u001b[0m\u001b[0mcnn_face_detector_model_location\u001b[0m\u001b[0;34m(\u001b[0m\u001b[0;34m)\u001b[0m\u001b[0;34m\u001b[0m\u001b[0;34m\u001b[0m\u001b[0m\n\u001b[0;32m---> 26\u001b[0;31m \u001b[0mcnn_face_detector\u001b[0m \u001b[0;34m=\u001b[0m \u001b[0mdlib\u001b[0m\u001b[0;34m.\u001b[0m\u001b[0mcnn_face_detection_model_v1\u001b[0m\u001b[0;34m(\u001b[0m\u001b[0mcnn_face_detection_model\u001b[0m\u001b[0;34m)\u001b[0m\u001b[0;34m\u001b[0m\u001b[0;34m\u001b[0m\u001b[0m\n\u001b[0m\u001b[1;32m     27\u001b[0m \u001b[0;34m\u001b[0m\u001b[0m\n\u001b[1;32m     28\u001b[0m \u001b[0mface_recognition_model\u001b[0m \u001b[0;34m=\u001b[0m \u001b[0mface_recognition_models\u001b[0m\u001b[0;34m.\u001b[0m\u001b[0mface_recognition_model_location\u001b[0m\u001b[0;34m(\u001b[0m\u001b[0;34m)\u001b[0m\u001b[0;34m\u001b[0m\u001b[0;34m\u001b[0m\u001b[0m\n",
            "\u001b[0;31mRuntimeError\u001b[0m: Error while calling cudaGetDevice(&the_device_id) in file /tmp/pip-install-h1e2w6yq/dlib_ee67d488f535462ca081ce38055682c3/dlib/cuda/gpu_data.cpp:204. code: 35, reason: CUDA driver version is insufficient for CUDA runtime version"
          ]
        }
      ]
    },
    {
      "cell_type": "code",
      "source": [
        "!pip uninstall dlib face_recognition -y\n"
      ],
      "metadata": {
        "colab": {
          "base_uri": "https://localhost:8080/"
        },
        "id": "l4XBbB-64ED-",
        "outputId": "8783a04d-d776-4c57-920d-cadaf2f9ad04"
      },
      "execution_count": 4,
      "outputs": [
        {
          "output_type": "stream",
          "name": "stdout",
          "text": [
            "Found existing installation: dlib 19.24.2\n",
            "Uninstalling dlib-19.24.2:\n",
            "  Successfully uninstalled dlib-19.24.2\n",
            "Found existing installation: face-recognition 1.3.0\n",
            "Uninstalling face-recognition-1.3.0:\n",
            "  Successfully uninstalled face-recognition-1.3.0\n"
          ]
        }
      ]
    },
    {
      "cell_type": "code",
      "source": [
        "!pip install dlib --no-cache-dir\n",
        "!pip install face_recognition --no-cache-dir\n"
      ],
      "metadata": {
        "colab": {
          "base_uri": "https://localhost:8080/"
        },
        "id": "og1Bmu1K6Lmi",
        "outputId": "833c4a3b-5d9f-4dd3-da10-5c30142f7bfe"
      },
      "execution_count": 6,
      "outputs": [
        {
          "output_type": "stream",
          "name": "stdout",
          "text": [
            "Requirement already satisfied: dlib in /usr/local/lib/python3.10/dist-packages (19.24.6)\n",
            "Requirement already satisfied: face_recognition in /usr/local/lib/python3.10/dist-packages (1.3.0)\n",
            "Requirement already satisfied: face-recognition-models>=0.3.0 in /usr/local/lib/python3.10/dist-packages (from face_recognition) (0.3.0)\n",
            "Requirement already satisfied: Click>=6.0 in /usr/local/lib/python3.10/dist-packages (from face_recognition) (8.1.7)\n",
            "Requirement already satisfied: dlib>=19.7 in /usr/local/lib/python3.10/dist-packages (from face_recognition) (19.24.6)\n",
            "Requirement already satisfied: numpy in /usr/local/lib/python3.10/dist-packages (from face_recognition) (1.26.4)\n",
            "Requirement already satisfied: Pillow in /usr/local/lib/python3.10/dist-packages (from face_recognition) (10.4.0)\n"
          ]
        }
      ]
    },
    {
      "cell_type": "code",
      "source": [
        "import os\n",
        "import face_recognition\n",
        "\n",
        "# Function to load images and extract encodings and names from the filenames\n",
        "def load_images_from_folder(folder):\n",
        "    face_encodings = []\n",
        "    face_names = []\n",
        "\n",
        "    # Loop through all image files in the folder\n",
        "    for image_name in os.listdir(folder):\n",
        "        # Full path to the image\n",
        "        image_path = os.path.join(folder, image_name)\n",
        "\n",
        "        # Extract the name from the image filename (assuming it's before the first dot)\n",
        "        name = image_name.split('.')[0]\n",
        "\n",
        "        # Load the image and get face encodings\n",
        "        image = face_recognition.load_image_file(image_path)\n",
        "        face_encoding = face_recognition.face_encodings(image)\n",
        "\n",
        "        if face_encoding:\n",
        "            face_encodings.append(face_encoding[0])\n",
        "            face_names.append(name)\n",
        "\n",
        "    return face_encodings, face_names\n",
        "\n",
        "# Load training images\n",
        "train_folder = '/content/sample_data/train'  # Update this path\n",
        "train_encodings, train_names = load_images_from_folder(train_folder)\n",
        "\n",
        "# Load test images if needed\n",
        "test_folder = '/content/sample_data/test'  # Update this path\n",
        "test_encodings, test_names = load_images_from_folder(test_folder)\n"
      ],
      "metadata": {
        "id": "LetI-0fN-CWR"
      },
      "execution_count": 5,
      "outputs": []
    },
    {
      "cell_type": "code",
      "source": [
        "import os\n",
        "import cv2\n",
        "import face_recognition\n",
        "\n",
        "# Function to load test images and recognize faces\n",
        "def recognize_faces_from_folder(test_folder, train_encodings, train_names):\n",
        "    for image_name in os.listdir(test_folder):\n",
        "        image_path = os.path.join(test_folder, image_name)\n",
        "\n",
        "        # Load the test image\n",
        "        test_image = face_recognition.load_image_file(image_path)\n",
        "        test_face_encodings = face_recognition.face_encodings(test_image)\n",
        "\n",
        "        # If there are no face encodings found in the image, skip it\n",
        "        if not test_face_encodings:\n",
        "            print(f\"No faces found in {image_name}.\")\n",
        "            continue\n",
        "\n",
        "        for test_face_encoding in test_face_encodings:\n",
        "            # Check if the detected face matches any of the known faces\n",
        "            matches = face_recognition.compare_faces(train_encodings, test_face_encoding)\n",
        "\n",
        "            name = \"Unknown\"  # Default name if no match is found\n",
        "            if True in matches:\n",
        "                first_match_index = matches.index(True)\n",
        "                name = train_names[first_match_index]  # Get the name from the training data\n",
        "\n",
        "                # Mark attendance (this can be stored in a list or database)\n",
        "                print(f\"Attendance marked for: {name} from image {image_name}\")\n",
        "            else:\n",
        "                print(f\"Face not recognized from image {image_name}.\")\n",
        "\n",
        "# Load test images\n",
        "test_folder = '/content/sample_data/test'  # Update this path\n",
        "recognize_faces_from_folder(test_folder, train_encodings, train_names)\n"
      ],
      "metadata": {
        "colab": {
          "base_uri": "https://localhost:8080/"
        },
        "id": "zCvunmp1_l6q",
        "outputId": "f53d3b56-cfdc-482c-ffaf-60edc0d37609"
      },
      "execution_count": 6,
      "outputs": [
        {
          "output_type": "stream",
          "name": "stdout",
          "text": [
            "Attendance marked for: Nipa from image Abir.6.3051.90.jpg\n",
            "Attendance marked for: Sabiqul from image Fahim.0.1414.51.jpg\n",
            "Attendance marked for: Sabiqul from image Fahim.0.1414.33.jpg\n",
            "Attendance marked for: Sabiqul from image Fahim.0.1414.29.jpg\n",
            "Attendance marked for: Tama from image Abir.6.3051.91.jpg\n",
            "Attendance marked for: Nipa from image Abir.6.3051.82.jpg\n",
            "Attendance marked for: Nipa from image Abir.6.3051.32.jpg\n",
            "Attendance marked for: Nipa from image Abir.6.3051.1.jpg\n",
            "Attendance marked for: Sabiqul from image Fahim.0.1414.99.jpg\n",
            "Attendance marked for: Sabiqul from image Fahim.0.1414.28.jpg\n",
            "Attendance marked for: Nipa from image Abir.6.3051.24.jpg\n",
            "Attendance marked for: Sabiqul from image Fahim.0.1414.26.jpg\n",
            "Attendance marked for: Shepon from image Abir.6.3051.62.jpg\n",
            "Attendance marked for: Nipa from image Abir.6.3051.99.jpg\n",
            "Attendance marked for: Sabiqul from image Fahim.0.1414.76.jpg\n",
            "Attendance marked for: Nipa from image Abir.6.3051.2.jpg\n",
            "Attendance marked for: Nipa from image Abir.6.3051.78.jpg\n",
            "No faces found in Fahim.0.1414.13.jpg.\n",
            "Attendance marked for: Nipa from image Abir.6.3051.25.jpg\n",
            "Attendance marked for: Nipa from image Abir.6.3051.86.jpg\n",
            "No faces found in Fahim.0.1414.30.jpg.\n",
            "Attendance marked for: Sabiqul from image Fahim.0.1414.70.jpg\n",
            "Attendance marked for: Nipa from image Abir.6.3051.11.jpg\n",
            "Attendance marked for: Sabiqul from image Fahim.0.1414.61.jpg\n",
            "Attendance marked for: Nipa from image Abir.6.3051.41.jpg\n",
            "Attendance marked for: Sabiqul from image Fahim.0.1414.68.jpg\n",
            "Attendance marked for: Nipa from image Abir.6.3051.83.jpg\n",
            "Attendance marked for: Tarup from image Fahim.0.1414.6.jpg\n",
            "Attendance marked for: Nipa from image Abir.6.3051.16.jpg\n",
            "Attendance marked for: Nipa from image Abir.6.3051.44.jpg\n",
            "Attendance marked for: Nipa from image Abir.6.3051.67.jpg\n",
            "Attendance marked for: Nipa from image Abir.6.3051.20.jpg\n",
            "No faces found in Fahim.0.1414.39.jpg.\n",
            "Attendance marked for: Sabiqul from image Fahim.0.1414.95.jpg\n",
            "Attendance marked for: Nipa from image Abir.6.3051.43.jpg\n",
            "No faces found in Fahim.0.1414.31.jpg.\n",
            "Attendance marked for: Nipa from image Abir.6.3051.35.jpg\n",
            "Attendance marked for: Sabiqul from image Fahim.0.1414.20.jpg\n",
            "Attendance marked for: Sabiqul from image Fahim.0.1414.52.jpg\n",
            "Attendance marked for: Nipa from image Abir.6.3051.8.jpg\n",
            "Attendance marked for: Sabiqul from image Fahim.0.1414.54.jpg\n",
            "Attendance marked for: Nipa from image Abir.6.3051.65.jpg\n",
            "Attendance marked for: Tarup from image Fahim.0.1414.1.jpg\n",
            "Attendance marked for: Sabiqul from image Fahim.0.1414.36.jpg\n",
            "Attendance marked for: Nipa from image Abir.6.3051.70.jpg\n",
            "Attendance marked for: Nipa from image Abir.6.3051.42.jpg\n",
            "Attendance marked for: Nipa from image Abir.6.3051.61.jpg\n",
            "Attendance marked for: Nipa from image Abir.6.3051.19.jpg\n",
            "Attendance marked for: Sabiqul from image Fahim.0.1414.79.jpg\n",
            "Attendance marked for: Nipa from image Abir.6.3051.100.jpg\n",
            "Attendance marked for: Nipa from image Abir.6.3051.85.jpg\n",
            "Attendance marked for: Nipa from image Abir.6.3051.53.jpg\n",
            "Attendance marked for: Nipa from image Abir.6.3051.89.jpg\n",
            "Attendance marked for: Sabiqul from image Fahim.0.1414.49.jpg\n",
            "Attendance marked for: Nipa from image Abir.6.3051.60.jpg\n",
            "Attendance marked for: Nipa from image Abir.6.3051.94.jpg\n",
            "Attendance marked for: Nipa from image Abir.6.3051.84.jpg\n",
            "Attendance marked for: Sabiqul from image Fahim.0.1414.45.jpg\n",
            "Attendance marked for: Sabiqul from image Fahim.0.1414.42.jpg\n",
            "Attendance marked for: Sabiqul from image Fahim.0.1414.96.jpg\n",
            "Attendance marked for: Sabiqul from image Fahim.0.1414.35.jpg\n",
            "Attendance marked for: Sabiqul from image Fahim.0.1414.84.jpg\n",
            "Attendance marked for: Sabiqul from image Fahim.0.1414.10.jpg\n",
            "Attendance marked for: Sabiqul from image Fahim.0.1414.17.jpg\n",
            "Attendance marked for: Tarup from image Fahim.0.1414.7.jpg\n",
            "Attendance marked for: Shepon from image Abir.6.3051.23.jpg\n",
            "Attendance marked for: Sabiqul from image Fahim.0.1414.3.jpg\n",
            "Attendance marked for: Sabiqul from image Fahim.0.1414.85.jpg\n",
            "Attendance marked for: Sabiqul from image Fahim.0.1414.89.jpg\n",
            "Attendance marked for: Tarup from image Fahim.0.1414.5.jpg\n",
            "Attendance marked for: Nipa from image Abir.6.3051.56.jpg\n",
            "Attendance marked for: Sabiqul from image Fahim.0.1414.97.jpg\n",
            "Attendance marked for: Sabiqul from image Fahim.0.1414.18.jpg\n",
            "Attendance marked for: Sabiqul from image Fahim.0.1414.92.jpg\n",
            "Attendance marked for: Sabiqul from image Fahim.0.1414.90.jpg\n",
            "Attendance marked for: Sabiqul from image Fahim.0.1414.43.jpg\n",
            "Attendance marked for: Nipa from image Abir.6.3051.6.jpg\n",
            "Attendance marked for: Nipa from image Abir.6.3051.39.jpg\n",
            "Attendance marked for: Shepon from image Abir.6.3051.59.jpg\n",
            "Attendance marked for: Nipa from image Abir.6.3051.52.jpg\n",
            "Attendance marked for: Nipa from image Abir.6.3051.88.jpg\n",
            "Attendance marked for: Nipa from image Abir.6.3051.14.jpg\n",
            "Attendance marked for: Shepon from image Abir.6.3051.79.jpg\n",
            "Attendance marked for: Sabiqul from image Fahim.0.1414.101.jpg\n",
            "Attendance marked for: Sabiqul from image Fahim.0.1414.74.jpg\n",
            "Attendance marked for: Sabiqul from image Fahim.0.1414.50.jpg\n",
            "Attendance marked for: Sabiqul from image Fahim.0.1414.11.jpg\n",
            "Attendance marked for: Nipa from image Abir.6.3051.64.jpg\n",
            "Attendance marked for: Tamim from image Fahim.0.1414.82.jpg\n",
            "Attendance marked for: Sabiqul from image Fahim.0.1414.64.jpg\n",
            "Attendance marked for: Nipa from image Abir.6.3051.17.jpg\n",
            "Attendance marked for: Sabiqul from image Fahim.0.1414.15.jpg\n",
            "Attendance marked for: Nipa from image Abir.6.3051.18.jpg\n",
            "Attendance marked for: Sabiqul from image Fahim.0.1414.47.jpg\n",
            "Attendance marked for: Sabiqul from image Fahim.0.1414.78.jpg\n",
            "Attendance marked for: Sabiqul from image Fahim.0.1414.59.jpg\n",
            "Attendance marked for: Sabiqul from image Fahim.0.1414.73.jpg\n",
            "Attendance marked for: Sabiqul from image Fahim.0.1414.44.jpg\n",
            "Attendance marked for: Sabiqul from image Fahim.0.1414.100.jpg\n",
            "Attendance marked for: Sabiqul from image Fahim.0.1414.69.jpg\n",
            "Attendance marked for: Nipa from image Abir.6.3051.10.jpg\n",
            "Attendance marked for: Nipa from image Abir.6.3051.46.jpg\n",
            "Attendance marked for: Nipa from image Abir.6.3051.55.jpg\n",
            "Attendance marked for: Nipa from image Abir.6.3051.15.jpg\n",
            "Attendance marked for: Sabiqul from image Fahim.0.1414.58.jpg\n",
            "Attendance marked for: Nipa from image Abir.6.3051.68.jpg\n",
            "Attendance marked for: Sabiqul from image Fahim.0.1414.4.jpg\n",
            "Attendance marked for: Nipa from image Abir.6.3051.72.jpg\n",
            "Attendance marked for: Tamim from image Fahim.0.1414.63.jpg\n",
            "Attendance marked for: Sabiqul from image Fahim.0.1414.12.jpg\n",
            "Attendance marked for: Sabiqul from image Fahim.0.1414.77.jpg\n",
            "Attendance marked for: Nipa from image Abir.6.3051.69.jpg\n",
            "Attendance marked for: Nipa from image Abir.6.3051.36.jpg\n",
            "Attendance marked for: Sabiqul from image Fahim.0.1414.88.jpg\n",
            "Attendance marked for: Tamim from image Fahim.0.1414.21.jpg\n",
            "Attendance marked for: Sabiqul from image Fahim.0.1414.22.jpg\n",
            "Attendance marked for: Sabiqul from image Fahim.0.1414.27.jpg\n",
            "Attendance marked for: Sabiqul from image Fahim.0.1414.62.jpg\n",
            "Attendance marked for: Nipa from image Abir.6.3051.97.jpg\n",
            "Attendance marked for: Nipa from image Abir.6.3051.9.jpg\n",
            "Attendance marked for: Sabiqul from image Fahim.0.1414.48.jpg\n",
            "Attendance marked for: Nipa from image Abir.6.3051.37.jpg\n",
            "Attendance marked for: Nipa from image Abir.6.3051.40.jpg\n",
            "Attendance marked for: Sabiqul from image Fahim.0.1414.9.jpg\n",
            "Attendance marked for: Nipa from image Abir.6.3051.31.jpg\n",
            "Attendance marked for: Nipa from image Abir.6.3051.33.jpg\n",
            "Attendance marked for: Sabiqul from image Fahim.0.1414.86.jpg\n",
            "Attendance marked for: Tarup from image Fahim.0.1414.34.jpg\n",
            "Attendance marked for: Nipa from image Abir.6.3051.49.jpg\n",
            "Attendance marked for: Nipa from image Abir.6.3051.3.jpg\n",
            "Attendance marked for: Tamim from image Fahim.0.1414.65.jpg\n",
            "Attendance marked for: Sabiqul from image Fahim.0.1414.94.jpg\n",
            "Attendance marked for: Nipa from image Abir.6.3051.51.jpg\n",
            "Attendance marked for: Sabiqul from image Fahim.0.1414.40.jpg\n",
            "Attendance marked for: Sabiqul from image Fahim.0.1414.81.jpg\n",
            "Attendance marked for: Sabiqul from image Fahim.0.1414.46.jpg\n",
            "Attendance marked for: Sabiqul from image Fahim.0.1414.72.jpg\n",
            "Attendance marked for: Sabiqul from image Fahim.0.1414.91.jpg\n",
            "Attendance marked for: Nipa from image Abir.6.3051.96.jpg\n",
            "Attendance marked for: Nipa from image Abir.6.3051.47.jpg\n",
            "Attendance marked for: Tamim from image Fahim.0.1414.56.jpg\n",
            "Attendance marked for: Nipa from image Abir.6.3051.34.jpg\n",
            "Attendance marked for: Sabiqul from image Fahim.0.1414.67.jpg\n",
            "Attendance marked for: Nipa from image Abir.6.3051.74.jpg\n",
            "Attendance marked for: Nipa from image Abir.6.3051.45.jpg\n",
            "Attendance marked for: Sabiqul from image Fahim.0.1414.83.jpg\n",
            "Attendance marked for: Nipa from image Abir.6.3051.22.jpg\n",
            "Attendance marked for: Nipa from image Abir.6.3051.101.jpg\n",
            "Attendance marked for: Sabiqul from image Fahim.0.1414.93.jpg\n",
            "Attendance marked for: Sabiqul from image Fahim.0.1414.2.jpg\n",
            "Attendance marked for: Sabiqul from image Fahim.0.1414.80.jpg\n",
            "Attendance marked for: Sabiqul from image Fahim.0.1414.87.jpg\n",
            "Attendance marked for: Nipa from image Abir.6.3051.26.jpg\n",
            "Attendance marked for: Sabiqul from image Fahim.0.1414.16.jpg\n",
            "Attendance marked for: Nipa from image Abir.6.3051.98.jpg\n",
            "Attendance marked for: Sabiqul from image Fahim.0.1414.23.jpg\n",
            "Attendance marked for: Sabiqul from image Fahim.0.1414.19.jpg\n",
            "Attendance marked for: Nipa from image Abir.6.3051.54.jpg\n",
            "Attendance marked for: Tamim from image Fahim.0.1414.24.jpg\n",
            "Attendance marked for: Nipa from image Abir.6.3051.5.jpg\n",
            "Attendance marked for: Shepon from image Abir.6.3051.57.jpg\n",
            "Attendance marked for: Nipa from image Abir.6.3051.27.jpg\n",
            "Attendance marked for: Sabiqul from image Fahim.0.1414.53.jpg\n",
            "Attendance marked for: Nipa from image Abir.6.3051.28.jpg\n",
            "Attendance marked for: Nipa from image Abir.6.3051.81.jpg\n",
            "Attendance marked for: Nipa from image Abir.6.3051.95.jpg\n",
            "Attendance marked for: Nipa from image Abir.6.3051.87.jpg\n",
            "Attendance marked for: Nipa from image Abir.6.3051.13.jpg\n",
            "No faces found in Fahim.0.1414.14.jpg.\n",
            "Attendance marked for: Shepon from image Abir.6.3051.63.jpg\n",
            "Attendance marked for: Nipa from image Abir.6.3051.76.jpg\n",
            "Attendance marked for: Nipa from image Abir.6.3051.75.jpg\n",
            "Attendance marked for: Nipa from image Abir.6.3051.58.jpg\n",
            "Attendance marked for: Nipa from image Abir.6.3051.50.jpg\n",
            "Attendance marked for: Sabiqul from image Fahim.0.1414.38.jpg\n",
            "Attendance marked for: Tamim from image Fahim.0.1414.66.jpg\n",
            "Attendance marked for: Sabiqul from image Fahim.0.1414.25.jpg\n",
            "No faces found in Fahim.0.1414.37.jpg.\n",
            "No faces found in Fahim.0.1414.41.jpg.\n",
            "Attendance marked for: Nipa from image Abir.6.3051.92.jpg\n",
            "Attendance marked for: Tarup from image Fahim.0.1414.8.jpg\n",
            "Attendance marked for: Nipa from image Abir.6.3051.80.jpg\n",
            "Attendance marked for: Nipa from image Abir.6.3051.38.jpg\n",
            "Attendance marked for: Shepon from image Abir.6.3051.48.jpg\n",
            "Attendance marked for: Sabiqul from image Fahim.0.1414.32.jpg\n",
            "Attendance marked for: Nipa from image Abir.6.3051.77.jpg\n",
            "Attendance marked for: Nipa from image Abir.6.3051.73.jpg\n",
            "Attendance marked for: Sabiqul from image Fahim.0.1414.57.jpg\n",
            "Attendance marked for: Nipa from image Abir.6.3051.71.jpg\n",
            "Attendance marked for: Sabiqul from image Fahim.0.1414.98.jpg\n",
            "Attendance marked for: Nipa from image Abir.6.3051.21.jpg\n",
            "Attendance marked for: Sabiqul from image Fahim.0.1414.71.jpg\n",
            "Attendance marked for: Sabiqul from image Fahim.0.1414.55.jpg\n",
            "Attendance marked for: Nipa from image Abir.6.3051.93.jpg\n",
            "Attendance marked for: Nipa from image Abir.6.3051.66.jpg\n",
            "Attendance marked for: Sabiqul from image Fahim.0.1414.75.jpg\n",
            "Attendance marked for: Nipa from image Abir.6.3051.7.jpg\n",
            "Attendance marked for: Nipa from image Abir.6.3051.30.jpg\n",
            "Attendance marked for: Nipa from image Abir.6.3051.4.jpg\n",
            "Attendance marked for: Sabiqul from image Fahim.0.1414.60.jpg\n",
            "Attendance marked for: Nipa from image Abir.6.3051.12.jpg\n",
            "Attendance marked for: Nipa from image Abir.6.3051.29.jpg\n"
          ]
        }
      ]
    },
    {
      "cell_type": "code",
      "source": [
        "attendance_list = []\n",
        "\n",
        "def mark_attendance(name):\n",
        "    if name != \"Unknown\" and name not in attendance_list:\n",
        "        attendance_list.append(name)\n",
        "        print(f\"Attendance marked for: {name}\")\n"
      ],
      "metadata": {
        "id": "hyu1MESgD_lI"
      },
      "execution_count": 7,
      "outputs": []
    },
    {
      "cell_type": "code",
      "source": [],
      "metadata": {
        "id": "q5B4DwtAEGlv"
      },
      "execution_count": null,
      "outputs": []
    },
    {
      "cell_type": "code",
      "source": [
        "!pip install dlib==19.18\n",
        "!pip install face_recognition\n"
      ],
      "metadata": {
        "colab": {
          "base_uri": "https://localhost:8080/",
          "height": 497
        },
        "id": "dmlItFzY-Z48",
        "outputId": "d5e215e2-9ea8-44ce-cd13-aac9596980de"
      },
      "execution_count": 8,
      "outputs": [
        {
          "output_type": "stream",
          "name": "stdout",
          "text": [
            "Collecting dlib==19.18\n",
            "  Downloading dlib-19.18.0.tar.gz (3.1 MB)\n",
            "\u001b[2K     \u001b[90m━━━━━━━━━━━━━━━━━━━━━━━━━━━━━━━━━━━━━━━━\u001b[0m \u001b[32m3.1/3.1 MB\u001b[0m \u001b[31m26.5 MB/s\u001b[0m eta \u001b[36m0:00:00\u001b[0m\n",
            "\u001b[?25h  Preparing metadata (setup.py) ... \u001b[?25l\u001b[?25hdone\n",
            "Building wheels for collected packages: dlib\n",
            "  Building wheel for dlib (setup.py) ... \u001b[?25l\u001b[?25hdone\n",
            "  Created wheel for dlib: filename=dlib-19.18.0-cp310-cp310-linux_x86_64.whl size=4329788 sha256=4383033e1f814a96e536431f365860da6e08101df9cec5502d875ce4fb4e52c8\n",
            "  Stored in directory: /root/.cache/pip/wheels/20/45/2e/2624ee5964ee28dcf808820f21763650010129242d6e78bf00\n",
            "Successfully built dlib\n",
            "Installing collected packages: dlib\n",
            "  Attempting uninstall: dlib\n",
            "    Found existing installation: dlib 19.24.6\n",
            "    Uninstalling dlib-19.24.6:\n",
            "      Successfully uninstalled dlib-19.24.6\n",
            "Successfully installed dlib-19.18.0\n"
          ]
        },
        {
          "output_type": "display_data",
          "data": {
            "application/vnd.colab-display-data+json": {
              "pip_warning": {
                "packages": [
                  "dlib"
                ]
              },
              "id": "a093c27edcda479099e14823ed3e2680"
            }
          },
          "metadata": {}
        },
        {
          "output_type": "stream",
          "name": "stdout",
          "text": [
            "Requirement already satisfied: face_recognition in /usr/local/lib/python3.10/dist-packages (1.3.0)\n",
            "Requirement already satisfied: face-recognition-models>=0.3.0 in /usr/local/lib/python3.10/dist-packages (from face_recognition) (0.3.0)\n",
            "Requirement already satisfied: Click>=6.0 in /usr/local/lib/python3.10/dist-packages (from face_recognition) (8.1.7)\n",
            "Requirement already satisfied: dlib>=19.7 in /usr/local/lib/python3.10/dist-packages (from face_recognition) (19.18.0)\n",
            "Requirement already satisfied: numpy in /usr/local/lib/python3.10/dist-packages (from face_recognition) (1.26.4)\n",
            "Requirement already satisfied: Pillow in /usr/local/lib/python3.10/dist-packages (from face_recognition) (10.4.0)\n"
          ]
        }
      ]
    }
  ]
}