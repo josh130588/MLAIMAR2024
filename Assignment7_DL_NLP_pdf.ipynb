{
  "nbformat": 4,
  "nbformat_minor": 0,
  "metadata": {
    "colab": {
      "provenance": [],
      "authorship_tag": "ABX9TyMuRlL2COwM+XZiu/C1zDaF",
      "include_colab_link": true
    },
    "kernelspec": {
      "name": "python3",
      "display_name": "Python 3"
    },
    "language_info": {
      "name": "python"
    }
  },
  "cells": [
    {
      "cell_type": "markdown",
      "metadata": {
        "id": "view-in-github",
        "colab_type": "text"
      },
      "source": [
        "<a href=\"https://colab.research.google.com/github/josh130588/MLAIMAR2024/blob/main/Assignment7_DL_NLP_pdf.ipynb\" target=\"_parent\"><img src=\"https://colab.research.google.com/assets/colab-badge.svg\" alt=\"Open In Colab\"/></a>"
      ]
    },
    {
      "source": [
        "# Import necessary libraries\n",
        "import pandas as pd\n",
        "import re\n",
        "from keras.preprocessing.text import Tokenizer\n",
        "from keras.preprocessing.sequence import pad_sequences\n",
        "from sklearn.model_selection import train_test_split\n",
        "from keras.models import Sequential\n",
        "from keras.layers import Embedding, LSTM, Dense\n",
        "\n",
        "# Load the dataset, specifying the encoding\n",
        "url = 'judge-1377884607_tweet_product_company.csv'\n",
        "df = pd.read_csv(url, encoding='latin-1') # Try 'latin-1' encoding\n",
        "\n",
        "# Data Cleaning\n",
        "def clean_text(text):\n",
        "    if isinstance(text, str): # Check if the text is a string\n",
        "        text = re.sub(r'http\\S+|www\\S+|https\\S+', '', text, flags=re.MULTILINE)\n",
        "        text = re.sub(r'\\@\\w+|\\#', '', text)\n",
        "        text = re.sub(r'[^A-Za-z\\s]', '', text)\n",
        "        text = text.lower()\n",
        "        return text\n",
        "    else:\n",
        "        return \"\" # Return an empty string for non-string values\n",
        "\n",
        "df['cleaned_tweet_text'] = df['tweet_text'].apply(clean_text)\n",
        "\n",
        "# Text Preprocessing\n",
        "tokenizer = Tokenizer(num_words=5000, oov_token='<OOV>')\n",
        "tokenizer.fit_on_texts(df['cleaned_tweet_text'])\n",
        "sequences = tokenizer.texts_to_sequences(df['cleaned_tweet_text'])\n",
        "\n",
        "max_length = 100\n",
        "padded_sequences = pad_sequences(sequences, maxlen=max_length, padding='post', truncating='post')\n",
        "\n",
        "label_mapping = {'Positive emotion': 0, 'Negative emotion': 1, 'Neutral emotion': 2, 'No emotion toward brand or product': 3}\n",
        "df['label'] = df['is_there_an_emotion_directed_at_a_brand_or_product'].map(label_mapping)\n",
        "\n",
        "# Handle Missing Labels - Drop rows with missing labels\n",
        "df.dropna(subset=['label'], inplace=True)\n",
        "\n",
        "# Convert labels to integers after dropping NaNs\n",
        "df['label'] = df['label'].astype(int)\n",
        "\n",
        "# Regenerate padded_sequences after dropping rows with missing labels\n",
        "sequences = tokenizer.texts_to_sequences(df['cleaned_tweet_text']) # Regenerate sequences after dropping rows\n",
        "padded_sequences = pad_sequences(sequences, maxlen=max_length, padding='post', truncating='post') # Regenerate padded_sequences\n",
        "\n",
        "# Train-Test Split after handling missing labels and regenerating padded_sequences\n",
        "X_train, X_test, y_train, y_test = train_test_split(padded_sequences, df['label'], test_size=0.2, random_state=42)\n",
        "\n",
        "# Model Building\n",
        "model = Sequential()\n",
        "model.add(Embedding(input_dim=5000, output_dim=64, input_length=max_length))\n",
        "model.add(LSTM(64))\n",
        "model.add(Dense(4, activation='softmax'))\n",
        "\n",
        "model.compile(loss='sparse_categorical_crossentropy', optimizer='adam', metrics=['accuracy'])\n",
        "\n",
        "model.fit(X_train, y_train, epochs=5, validation_data=(X_test, y_test))\n",
        "\n",
        "# Model Evaluation\n",
        "loss, accuracy = model.evaluate(X_test, y_test)\n",
        "print(\"Model accuracy:\", accuracy)"
      ],
      "cell_type": "code",
      "metadata": {
        "colab": {
          "base_uri": "https://localhost:8080/"
        },
        "id": "XynZZ3w4Srq-",
        "outputId": "c2a12176-57d5-466f-d600-05f33f9ba9a0"
      },
      "execution_count": 9,
      "outputs": [
        {
          "output_type": "stream",
          "name": "stdout",
          "text": [
            "Epoch 1/5\n",
            "224/224 [==============================] - 23s 80ms/step - loss: 0.8829 - accuracy: 0.5925 - val_loss: 0.8499 - val_accuracy: 0.6124\n",
            "Epoch 2/5\n",
            "224/224 [==============================] - 17s 74ms/step - loss: 0.8509 - accuracy: 0.6006 - val_loss: 0.8533 - val_accuracy: 0.6124\n",
            "Epoch 3/5\n",
            "224/224 [==============================] - 17s 75ms/step - loss: 0.8502 - accuracy: 0.6006 - val_loss: 0.8487 - val_accuracy: 0.6124\n",
            "Epoch 4/5\n",
            "224/224 [==============================] - 17s 76ms/step - loss: 0.8490 - accuracy: 0.6006 - val_loss: 0.8492 - val_accuracy: 0.6124\n",
            "Epoch 5/5\n",
            "224/224 [==============================] - 18s 82ms/step - loss: 0.8492 - accuracy: 0.6006 - val_loss: 0.8513 - val_accuracy: 0.6124\n",
            "56/56 [==============================] - 1s 23ms/step - loss: 0.8513 - accuracy: 0.6124\n",
            "Model accuracy: 0.6124160885810852\n"
          ]
        }
      ]
    },
    {
      "source": [],
      "cell_type": "code",
      "metadata": {
        "id": "hkITwRp-S1Nv"
      },
      "execution_count": null,
      "outputs": []
    },
    {
      "source": [],
      "cell_type": "code",
      "metadata": {
        "id": "WeL9dPBAS2cQ"
      },
      "execution_count": 6,
      "outputs": []
    },
    {
      "cell_type": "code",
      "source": [],
      "metadata": {
        "id": "N_GWhL0DSQEJ"
      },
      "execution_count": null,
      "outputs": []
    }
  ]
}