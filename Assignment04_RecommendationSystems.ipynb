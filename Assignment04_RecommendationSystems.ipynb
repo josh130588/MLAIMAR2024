{
  "nbformat": 4,
  "nbformat_minor": 0,
  "metadata": {
    "colab": {
      "provenance": [],
      "authorship_tag": "ABX9TyMemgCaNjFoqAbELPd1YJV+",
      "include_colab_link": true
    },
    "kernelspec": {
      "name": "python3",
      "display_name": "Python 3"
    },
    "language_info": {
      "name": "python"
    }
  },
  "cells": [
    {
      "cell_type": "markdown",
      "metadata": {
        "id": "view-in-github",
        "colab_type": "text"
      },
      "source": [
        "<a href=\"https://colab.research.google.com/github/josh130588/MLAIMAR2024/blob/main/Assignment04_RecommendationSystems.ipynb\" target=\"_parent\"><img src=\"https://colab.research.google.com/assets/colab-badge.svg\" alt=\"Open In Colab\"/></a>"
      ]
    },
    {
      "cell_type": "code",
      "source": [],
      "metadata": {
        "id": "X_F_c4PX-uMI"
      },
      "execution_count": null,
      "outputs": []
    },
    {
      "source": [
        "import pandas as pd\n",
        "from scipy.sparse.linalg import svds\n",
        "import numpy as np\n",
        "from sklearn.metrics import mean_squared_error\n",
        "\n",
        "# 1. Loading the Dataset\n",
        "file_path = 'jokes-data.csv'\n",
        "df = pd.read_csv(file_path)\n",
        "df.head()\n",
        "\n",
        "# 2. Data Preprocessing\n",
        "df.fillna(0, inplace=True)\n",
        "user_item_matrix = df.pivot_table(index='user_id', columns='joke_id', values='Rating')\n",
        "user_item_matrix_norm = user_item_matrix.sub(user_item_matrix.mean(axis=1), axis=0)\n",
        "user_item_matrix_norm.head()\n",
        "\n",
        "# 3. Building the Recommendation System\n",
        "# Convert the DataFrame to a NumPy array before passing it to svds\n",
        "U, sigma, Vt = svds(user_item_matrix_norm.fillna(0).to_numpy(), k=50)\n",
        "sigma = np.diag(sigma)\n",
        "predicted_ratings = np.dot(np.dot(U, sigma), Vt) + user_item_matrix.mean(axis=1).values.reshape(-1, 1)\n",
        "predicted_ratings_df = pd.DataFrame(predicted_ratings, columns=user_item_matrix.columns, index=user_item_matrix.index)\n",
        "predicted_ratings_df.head()\n",
        "\n",
        "# 4. Evaluating the Recommendation System\n",
        "actual_ratings = user_item_matrix.values.flatten()\n",
        "predicted_ratings_flat = predicted_ratings_df.values.flatten()\n",
        "\n",
        "# Handle potential NaNs in BOTH actual and predicted ratings\n",
        "actual_ratings = np.nan_to_num(actual_ratings)  # Replace NaNs with zeros in actual ratings as well\n",
        "predicted_ratings_flat = np.nan_to_num(predicted_ratings_flat)  # Replace NaNs with zeros\n",
        "\n",
        "rmse = np.sqrt(mean_squared_error(actual_ratings, predicted_ratings_flat))\n",
        "print(f'RMSE: {rmse}')\n",
        "\n",
        "# 5. Making Recommendations\n",
        "def recommend_jokes(user_id, num_recommendations):\n",
        "    user_predicted_ratings = predicted_ratings_df.loc[user_id]\n",
        "    sorted_jokes = user_predicted_ratings.sort_values(ascending=False)\n",
        "    recommendations = sorted_jokes.head(num_recommendations)\n",
        "    return recommendations\n",
        "\n",
        "recommendations = recommend_jokes(user_id=1, num_recommendations=5)\n",
        "print(recommendations)"
      ],
      "cell_type": "code",
      "metadata": {
        "colab": {
          "base_uri": "https://localhost:8080/"
        },
        "id": "Asp0D-MzAh6d",
        "outputId": "0fefba18-b9bf-4a50-e5b8-6fa41c9baf1f"
      },
      "execution_count": 7,
      "outputs": [
        {
          "output_type": "stream",
          "name": "stdout",
          "text": [
            "RMSE: 3.158454999198309\n",
            "joke_id\n",
            "79    9.883790\n",
            "26    9.556643\n",
            "62    9.478234\n",
            "66    9.219894\n",
            "25    9.134533\n",
            "Name: 1, dtype: float64\n"
          ]
        }
      ]
    },
    {
      "cell_type": "code",
      "source": [],
      "metadata": {
        "id": "wYsyOY66AibI"
      },
      "execution_count": null,
      "outputs": []
    }
  ]
}