{
  "nbformat": 4,
  "nbformat_minor": 0,
  "metadata": {
    "colab": {
      "provenance": [],
      "authorship_tag": "ABX9TyPpWQRrppSO/KPiumFfPtfs",
      "include_colab_link": true
    },
    "kernelspec": {
      "name": "python3",
      "display_name": "Python 3"
    },
    "language_info": {
      "name": "python"
    }
  },
  "cells": [
    {
      "cell_type": "markdown",
      "metadata": {
        "id": "view-in-github",
        "colab_type": "text"
      },
      "source": [
        "<a href=\"https://colab.research.google.com/github/josh130588/MLAIMAR2024/blob/main/Assignment05_ArtificialNeuralNetworks.ipynb\" target=\"_parent\"><img src=\"https://colab.research.google.com/assets/colab-badge.svg\" alt=\"Open In Colab\"/></a>"
      ]
    },
    {
      "cell_type": "code",
      "execution_count": 3,
      "metadata": {
        "id": "6_Ya_Bsh6KYU",
        "colab": {
          "base_uri": "https://localhost:8080/"
        },
        "outputId": "c156d9e6-08c7-4266-b721-c493e68adff4"
      },
      "outputs": [
        {
          "output_type": "stream",
          "name": "stdout",
          "text": [
            "Trial 10 Complete [00h 00m 34s]\n",
            "val_accuracy: 0.946874996026357\n",
            "\n",
            "Best val_accuracy So Far: 0.946874996026357\n",
            "Total elapsed time: 00h 05m 27s\n",
            "13/13 [==============================] - 0s 2ms/step - loss: 0.1600 - accuracy: 0.9350\n",
            "Test accuracy: 0.9350000023841858\n"
          ]
        }
      ],
      "source": [
        "!pip install keras-tuner\n",
        "\n",
        "import pandas as pd\n",
        "from sklearn.model_selection import train_test_split\n",
        "from sklearn.preprocessing import StandardScaler\n",
        "import tensorflow as tf\n",
        "from tensorflow.keras.models import Sequential\n",
        "from tensorflow.keras.layers import Dense, Dropout\n",
        "from sklearn.metrics import accuracy_score\n",
        "\n",
        "# 1. Loading the Dataset\n",
        "file_path = 'mobile_price_classification.csv'\n",
        "df = pd.read_csv(file_path)\n",
        "df.head()\n",
        "\n",
        "# 2. Data Preprocessing\n",
        "X = df.drop('price_range', axis=1)\n",
        "y = df['price_range']\n",
        "X_train, X_test, y_train, y_test = train_test_split(X, y, test_size=0.2, random_state=42)\n",
        "scaler = StandardScaler()\n",
        "X_train = scaler.fit_transform(X_train)\n",
        "X_test = scaler.transform(X_test)\n",
        "\n",
        "# 3. Building the Artificial Neural Network (ANN)\n",
        "model = Sequential()\n",
        "model.add(Dense(units=16, activation='relu', input_dim=X_train.shape[1]))\n",
        "model.add(Dropout(0.2))\n",
        "model.add(Dense(units=16, activation='relu'))\n",
        "model.add(Dropout(0.2))\n",
        "model.add(Dense(units=4, activation='softmax'))\n",
        "model.compile(optimizer='adam', loss='sparse_categorical_crossentropy', metrics=['accuracy'])\n",
        "history = model.fit(X_train, y_train, epochs=50, batch_size=32, validation_split=0.2)\n",
        "\n",
        "# 4. Hyperparameter Tuning\n",
        "from kerastuner.tuners import RandomSearch\n",
        "\n",
        "def build_model(hp):\n",
        "    model = Sequential()\n",
        "    model.add(Dense(units=hp.Int('units', min_value=8, max_value=128, step=8), activation='relu', input_dim=X_train.shape[1]))\n",
        "    model.add(Dropout(rate=hp.Float('dropout', min_value=0.0, max_value=0.5, step=0.1)))\n",
        "    model.add(Dense(units=hp.Int('units', min_value=8, max_value=128, step=8), activation='relu'))\n",
        "    model.add(Dropout(rate=hp.Float('dropout', min_value=0.0, max_value=0.5, step=0.1)))\n",
        "    model.add(Dense(units=4, activation='softmax'))\n",
        "    model.compile(optimizer='adam', loss='sparse_categorical_crossentropy', metrics=['accuracy'])\n",
        "    return model\n",
        "\n",
        "tuner = RandomSearch(\n",
        "    build_model,\n",
        "    objective='val_accuracy',\n",
        "    max_trials=10,\n",
        "    executions_per_trial=3,\n",
        "    directory='project',\n",
        "    project_name='mobile_price_classification')\n",
        "\n",
        "tuner.search(X_train, y_train, epochs=50, validation_split=0.2)\n",
        "best_model = tuner.get_best_models(num_models=1)[0]\n",
        "\n",
        "# 5. Evaluating the Model\n",
        "test_loss, test_acc = best_model.evaluate(X_test, y_test)\n",
        "print(f'Test accuracy: {test_acc}')"
      ]
    },
    {
      "cell_type": "code",
      "source": [],
      "metadata": {
        "id": "PSTEUpQXBYIY"
      },
      "execution_count": null,
      "outputs": []
    }
  ]
}